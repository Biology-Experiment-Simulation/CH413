{
 "cells": [
  {
   "cell_type": "code",
   "execution_count": 5,
   "metadata": {},
   "outputs": [
    {
     "data": {
      "text/html": [
       "<script>\n",
       "code_show=true; \n",
       "function code_toggle() {\n",
       "    if (code_show){\n",
       "        $('div.cell.code_cell.rendered.selected div.input').hide();\n",
       "    } else {\n",
       "        $('div.cell.code_cell.rendered.selected div.input').show();\n",
       "    }\n",
       "    code_show = !code_show\n",
       "} \n",
       "$( document ).ready(code_toggle);\n",
       "</script>\n",
       "Some hidden code... to show/hide this cell's raw code input, click (or double click if stubborn!) <a href=\"javascript:code_toggle()\">here</a>."
      ],
      "text/plain": [
       "<IPython.core.display.HTML object>"
      ]
     },
     "metadata": {},
     "output_type": "display_data"
    },
    {
     "data": {
      "text/html": [
       "<style>\n",
       "div.warn {    \n",
       "    background-color: #b3b3ff;\n",
       "    border-color: #0000b3;\n",
       "    border-left: 5px solid #0000b3;\n",
       "    padding: 0.5em;\n",
       "    }\n",
       " </style>\n"
      ],
      "text/plain": [
       "<IPython.core.display.HTML object>"
      ]
     },
     "execution_count": 5,
     "metadata": {},
     "output_type": "execute_result"
    }
   ],
   "source": [
    "from IPython.display import HTML\n",
    "from IPython.display import display\n",
    "\n",
    "\n",
    "# Taken from https://stackoverflow.com/questions/31517194/how-to-hide-one-specific-cell-input-or-output-in-ipython-notebook\n",
    "tag = HTML('''<script>\n",
    "code_show=true; \n",
    "function code_toggle() {\n",
    "    if (code_show){\n",
    "        $('div.cell.code_cell.rendered.selected div.input').hide();\n",
    "    } else {\n",
    "        $('div.cell.code_cell.rendered.selected div.input').show();\n",
    "    }\n",
    "    code_show = !code_show\n",
    "} \n",
    "$( document ).ready(code_toggle);\n",
    "</script>\n",
    "Some hidden code... to show/hide this cell's raw code input, click (or double click if stubborn!) <a href=\"javascript:code_toggle()\">here</a>.''')\n",
    "display(tag)\n",
    "\n",
    "############### Write code below ##################\n",
    "from IPython.core.display import HTML\n",
    "def css_styling():\n",
    "    styles = open(\"./ES_ML_SOSSO/colors.css\", \"r\").read()\n",
    "    return HTML(styles)\n",
    "css_styling()"
   ]
  },
  {
   "cell_type": "markdown",
   "metadata": {},
   "source": [
    "# CH413: Computational Workshop 2 - Assignment\n",
    "## Global optimisation: clusters of 12, 13 and 14 atoms with the Morse potential\n",
    "\n",
    "Your task is to perform global optimisation - as on the workshop -, to find the global minimum structure of 12, 13 and 14 atom clusters, described by the Morse potential, and compare the per atom energy of the three global minimum structures. The notebook we used during the workshop is a good starting point! The Morse potential is also included in the atomic simulation environment (ase), so we can use it as easily as the Lennard-Jones.\n",
    "\n",
    "For small cluster sizes the behaviour of the Morse potential is very similar to that of the Lennard-Jones potential. By using the default potential parameters in ase, the energy and distance scale will be very similar to the one in the Lennard-Jones system we used at the workshop. \n",
    "\n"
   ]
  },
  {
   "cell_type": "markdown",
   "metadata": {},
   "source": [
    "<div class=warn>\n",
    "<h2>Assessment</h2>\n",
    "    \n",
    "* <b>Step 1 [5%]</b>: Create a markdown cell, and with using latex provide the equation for the Morse potential. Define all symbols involved.  <br>\n",
    "* <b>Step 2 [5%]</b>: Import the necessary libraries and initialise a calculator for the Morse potential. (Use the default parameters, thus no need to assign or define any arguments for the potential.)<br>\n",
    "* <b>Step 3 [10%]</b>: Create one example initial structure for all three cluster sizes using a cubic simulation cell with boxlength of 15 Angstrom and enabling periodic boundary conditions. (Think about how and where you place the atoms and visualise the structure to check the initial structure is sensible.)<br>\n",
    "* <b>Step 4 [10%]</b>: Perform a test minimisation on the largest cluster to determine the parameters (``fmax`` and ``steps``) for an appropriate level of convergence.<br>\n",
    "* <b>Step 5 [25%]</b>: Perform 40 minimisation cycles for all three cluster sizes and save the minimum energies and structures in separate arrays. <br>\n",
    "* <b>Step 6 [15%]</b>: Create a scatter plot showing the energy of the minimised configurations for all three cluster sizes. (Adjust the energy axis so data for all three clusters are visible, but do not show the minimisations that failed and got stuck at really high energies.) Save the plot in png format.<br>\n",
    "* <b>Step 7 [10%]</b>: Choose the lowest energy configuration of all three cluster sizes and visualize them to check the structure. Create a markdown cell and briefly comment on your findings (describe briefly the structures and how does these compare to known global minimum structures of Morse clusters)<br>\n",
    "* <b>Step 8 [10%]</b>: Once you are satisfied that the global minima has been found for all three cluster sizes, create a plot showing the energy of the global minimum per atom for the three global minima as a function of the number of atoms in the cluster. Save the plot in png format.<br>\n",
    "* <b>Step 9 [10%]</b>: What is the trend for the energy/atom for clsters of 12, 13 and 14 atoms? Give a short explanation of your findings in a markdown cell.<br>   \n",
    "\n",
    "<div/>"
   ]
  },
  {
   "cell_type": "code",
   "execution_count": null,
   "metadata": {},
   "outputs": [],
   "source": []
  }
 ],
 "metadata": {
  "kernelspec": {
   "display_name": "Python 3",
   "language": "python",
   "name": "python3"
  },
  "language_info": {
   "codemirror_mode": {
    "name": "ipython",
    "version": 3
   },
   "file_extension": ".py",
   "mimetype": "text/x-python",
   "name": "python",
   "nbconvert_exporter": "python",
   "pygments_lexer": "ipython3",
   "version": "3.7.3"
  }
 },
 "nbformat": 4,
 "nbformat_minor": 2
}
